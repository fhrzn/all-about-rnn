{
 "cells": [
  {
   "cell_type": "code",
   "execution_count": 1,
   "metadata": {},
   "outputs": [],
   "source": [
    "# import libraries\n",
    "import torch\n",
    "from torch import nn\n",
    "from torch.optim import Adam\n",
    "from torch.utils.data import TensorDataset, DataLoader\n",
    "import torch.nn.functional as F\n",
    "\n",
    "import numpy as np\n",
    "import matplotlib.pyplot as plt\n",
    "from tqdm.auto import tqdm\n",
    "\n",
    "import os\n",
    "import random"
   ]
  },
  {
   "cell_type": "code",
   "execution_count": 2,
   "metadata": {},
   "outputs": [],
   "source": [
    "# read dataset\n",
    "PATH = '../data/names.txt'\n",
    "\n",
    "with open(PATH, 'r', encoding='utf-8') as r:\n",
    "    names = r.read().split('\\n')\n",
    "\n",
    "# shuffle dataset\n",
    "index = list(range(len(names)))\n",
    "random.shuffle(index)\n",
    "names = [names[i] for i in index]"
   ]
  },
  {
   "cell_type": "code",
   "execution_count": 3,
   "metadata": {},
   "outputs": [
    {
     "data": {
      "text/plain": [
       "[[41, 28, 55, 51, 50, 55, 12, 53, 2, 28],\n",
       " [41, 50, 55, 55, 28, 38, 38],\n",
       " [13, 55, 53, 52, 38, 37, 52],\n",
       " [14, 51, 37, 52, 51, 53, 28],\n",
       " [21, 37, 55, 55, 50, 31, 2, 28]]"
      ]
     },
     "execution_count": 3,
     "metadata": {},
     "output_type": "execute_result"
    }
   ],
   "source": [
    "# build vocab\n",
    "chars = tuple(set(''.join(names)))\n",
    "int2char = dict(enumerate(chars, 1))\n",
    "int2char[0] = '<PAD>'\n",
    "char2int = {v: k for k, v in int2char.items()}\n",
    "\n",
    "# encode words\n",
    "names_enc = [[char2int[ch] for ch in name] for name in names]\n",
    "names_enc[:5]"
   ]
  },
  {
   "cell_type": "code",
   "execution_count": 4,
   "metadata": {},
   "outputs": [
    {
     "data": {
      "text/plain": [
       "array([[41, 28, 55, 51, 50, 55, 12, 53,  2, 28,  0,  0,  0,  0,  0],\n",
       "       [41, 50, 55, 55, 28, 38, 38,  0,  0,  0,  0,  0,  0,  0,  0],\n",
       "       [13, 55, 53, 52, 38, 37, 52,  0,  0,  0,  0,  0,  0,  0,  0],\n",
       "       [14, 51, 37, 52, 51, 53, 28,  0,  0,  0,  0,  0,  0,  0,  0],\n",
       "       [21, 37, 55, 55, 50, 31,  2, 28,  0,  0,  0,  0,  0,  0,  0]])"
      ]
     },
     "execution_count": 4,
     "metadata": {},
     "output_type": "execute_result"
    }
   ],
   "source": [
    "# pad features\n",
    "seq_length = max([len(x) for x in names_enc])\n",
    "\n",
    "def pad_features(names, seq_length):\n",
    "    features = np.zeros((len(names), seq_length), dtype=int)    \n",
    "\n",
    "    for i, row in enumerate(names):\n",
    "        # if seq_length < len(row) then row will be trimmed (expected)        \n",
    "        features[i, :len(row)] = np.array(row)[:seq_length]\n",
    "\n",
    "    return features\n",
    "\n",
    "features = pad_features(names_enc, seq_length)\n",
    "\n",
    "assert len(features) == len(names_enc)\n",
    "assert len(features[0]) == seq_length\n",
    "\n",
    "features[:5]"
   ]
  },
  {
   "cell_type": "code",
   "execution_count": 5,
   "metadata": {},
   "outputs": [
    {
     "name": "stdout",
     "output_type": "stream",
     "text": [
      "Feature Shapes:\n",
      "===============\n",
      "Train set: (5958, 15)\n",
      "Test set: (1986, 15)\n"
     ]
    }
   ],
   "source": [
    "# train test split\n",
    "train_size = .75     # we will use 80% of data as train set\n",
    "# val_size = .5       # we will use 50% of test set as validation set\n",
    "\n",
    "split_id = int(len(features) * train_size)\n",
    "train_x, test_x = features[:split_id], features[split_id:]\n",
    "\n",
    "# test_id = int(len(remain_x) * val_size)\n",
    "# val_x, test_x = remain_x[:test_id], remain_x[test_id:]\n",
    "\n",
    "print('Feature Shapes:')\n",
    "print('===============')\n",
    "print('Train set: {}'.format(train_x.shape))\n",
    "# print('Validation set: {}'.format(val_x.shape))\n",
    "print('Test set: {}'.format(test_x.shape))"
   ]
  },
  {
   "cell_type": "code",
   "execution_count": 6,
   "metadata": {},
   "outputs": [],
   "source": [
    "# generate batches\n",
    "batch_size = 128\n",
    "\n",
    "trainset = TensorDataset(torch.from_numpy(train_x))\n",
    "# validset = TensorDataset(torch.from_numpy(val_x))\n",
    "testset = TensorDataset(torch.from_numpy(test_x))\n",
    "\n",
    "trainloader = DataLoader(trainset, shuffle=True, batch_size=batch_size)\n",
    "# validloader = DataLoader(validset, shuffle=True, batch_size=batch_size)\n",
    "testloader = DataLoader(testset, shuffle=True, batch_size=batch_size)"
   ]
  },
  {
   "cell_type": "code",
   "execution_count": 7,
   "metadata": {},
   "outputs": [
    {
     "name": "stdout",
     "output_type": "stream",
     "text": [
      "Sample batch size:  torch.Size([128, 15])\n",
      "Sample batch input: \n",
      " tensor([[ 3, 28,  2,  ...,  0,  0,  0],\n",
      "        [36,  2,  2,  ...,  0,  0,  0],\n",
      "        [ 3, 28, 12,  ...,  0,  0,  0],\n",
      "        ...,\n",
      "        [27, 37, 55,  ...,  0,  0,  0],\n",
      "        [36, 12, 37,  ...,  0,  0,  0],\n",
      "        [14, 53, 11,  ...,  0,  0,  0]])\n"
     ]
    }
   ],
   "source": [
    "diter = iter(trainloader)\n",
    "x = diter.next()[0]\n",
    "\n",
    "print('Sample batch size: ', x.size())   # batch_size, seq_length\n",
    "print('Sample batch input: \\n', x)"
   ]
  },
  {
   "cell_type": "code",
   "execution_count": 144,
   "metadata": {},
   "outputs": [],
   "source": [
    "# network architecture\n",
    "class RNNNamePrediction(nn.Module):\n",
    "    def __init__(self, vocab_size, hidden_size, embedding_size=32, dropout=0.2):\n",
    "        super(RNNNamePrediction, self).__init__()\n",
    "\n",
    "        # embedding layer is useful to map input into vector representation\n",
    "        self.embedding = nn.Embedding(vocab_size, embedding_size)\n",
    "\n",
    "        # RNN layer preserved by PyTorch library\n",
    "        # this layer handles RNN Cell loops\n",
    "        self.rnn = nn.RNN(embedding_size, hidden_size, batch_first=True)\n",
    "\n",
    "        # Linear layer for output\n",
    "        self.output = nn.Linear(hidden_size, vocab_size)\n",
    "\n",
    "        # Dropout layer\n",
    "        self.dropout = nn.Dropout(dropout)\n",
    "\n",
    "    def forward(self, x, h=None):\n",
    "        # its optional to init hidden state by ourselves\n",
    "        # bcs PyTorch will handle it if we don't provide it\n",
    "\n",
    "        # map input to vector\n",
    "        x = self.embedding(x)\n",
    "\n",
    "        # compute current hidden state\n",
    "        o, h = self.rnn(x, h)\n",
    "\n",
    "        # apply dropout\n",
    "        o = self.dropout(o)\n",
    "\n",
    "        # compute output\n",
    "        o = self.output(o)\n",
    "\n",
    "        return o, h"
   ]
  },
  {
   "cell_type": "code",
   "execution_count": 145,
   "metadata": {},
   "outputs": [
    {
     "name": "stdout",
     "output_type": "stream",
     "text": [
      "cpu\n"
     ]
    }
   ],
   "source": [
    "# define training device\n",
    "device = torch.device('cuda' if torch.cuda.is_available() else 'cpu')\n",
    "print(device)"
   ]
  },
  {
   "cell_type": "code",
   "execution_count": 147,
   "metadata": {},
   "outputs": [
    {
     "name": "stdout",
     "output_type": "stream",
     "text": [
      "RNNNamePrediction(\n",
      "  (embedding): Embedding(56, 16)\n",
      "  (rnn): RNN(16, 128, batch_first=True)\n",
      "  (output): Linear(in_features=128, out_features=56, bias=True)\n",
      "  (dropout): Dropout(p=0.1, inplace=False)\n",
      ")\n"
     ]
    }
   ],
   "source": [
    "# model hyperparamters\n",
    "vocab_size = len(char2int)\n",
    "emebdding_dim = 16\n",
    "hidden_dim = 128\n",
    "dropout=0.1\n",
    "\n",
    "model = RNNNamePrediction(vocab_size, hidden_dim, emebdding_dim, dropout)\n",
    "print(model)"
   ]
  },
  {
   "cell_type": "code",
   "execution_count": 148,
   "metadata": {},
   "outputs": [],
   "source": [
    "lr = 0.0001\n",
    "criterion = nn.CrossEntropyLoss()\n",
    "optim = Adam(model.parameters(), lr=lr)\n",
    "grad_clip = 5\n",
    "epochs = 1000\n",
    "print_every = 100\n",
    "history = {\n",
    "    'train_loss': [],    \n",
    "    # 'train_acc': [],\n",
    "    'val_loss': [],\n",
    "    # 'val_acc': [],\n",
    "    'epochs': epochs\n",
    "}\n",
    "MODEL_PATH = '../models/namegen_RNN.pt'"
   ]
  },
  {
   "cell_type": "code",
   "execution_count": 149,
   "metadata": {},
   "outputs": [
    {
     "name": "stderr",
     "output_type": "stream",
     "text": [
      "Training...:   0%|          | 1/1000 [00:00<10:09,  1.64it/s, Val Loss: 3.286]"
     ]
    },
    {
     "name": "stdout",
     "output_type": "stream",
     "text": [
      "Epoch 1/1000 | Train Loss: 3.7642 | Val Loss: 3.2856\n"
     ]
    },
    {
     "name": "stderr",
     "output_type": "stream",
     "text": [
      "Training...:  10%|█         | 100/1000 [00:52<07:48,  1.92it/s, Val Loss: 0.907]"
     ]
    },
    {
     "name": "stdout",
     "output_type": "stream",
     "text": [
      "Epoch 100/1000 | Train Loss: 0.8997 | Val Loss: 0.9073\n"
     ]
    },
    {
     "name": "stderr",
     "output_type": "stream",
     "text": [
      "Training...:  20%|██        | 200/1000 [01:45<06:56,  1.92it/s, Val Loss: 0.848]"
     ]
    },
    {
     "name": "stdout",
     "output_type": "stream",
     "text": [
      "Epoch 200/1000 | Train Loss: 0.8342 | Val Loss: 0.8478\n"
     ]
    },
    {
     "name": "stderr",
     "output_type": "stream",
     "text": [
      "Training...:  30%|███       | 300/1000 [02:37<06:14,  1.87it/s, Val Loss: 0.822]"
     ]
    },
    {
     "name": "stdout",
     "output_type": "stream",
     "text": [
      "Epoch 300/1000 | Train Loss: 0.7939 | Val Loss: 0.8220\n"
     ]
    },
    {
     "name": "stderr",
     "output_type": "stream",
     "text": [
      "Training...:  40%|████      | 400/1000 [03:36<05:16,  1.90it/s, Val Loss: 0.809]"
     ]
    },
    {
     "name": "stdout",
     "output_type": "stream",
     "text": [
      "Epoch 400/1000 | Train Loss: 0.7665 | Val Loss: 0.8089\n"
     ]
    },
    {
     "name": "stderr",
     "output_type": "stream",
     "text": [
      "Training...:  50%|█████     | 500/1000 [04:28<04:23,  1.90it/s, Val Loss: 0.804]"
     ]
    },
    {
     "name": "stdout",
     "output_type": "stream",
     "text": [
      "Epoch 500/1000 | Train Loss: 0.7438 | Val Loss: 0.8035\n"
     ]
    },
    {
     "name": "stderr",
     "output_type": "stream",
     "text": [
      "Training...:  60%|██████    | 600/1000 [05:21<03:27,  1.93it/s, Val Loss: 0.800]"
     ]
    },
    {
     "name": "stdout",
     "output_type": "stream",
     "text": [
      "Epoch 600/1000 | Train Loss: 0.7247 | Val Loss: 0.7996\n"
     ]
    },
    {
     "name": "stderr",
     "output_type": "stream",
     "text": [
      "Training...:  70%|███████   | 700/1000 [06:14<02:38,  1.90it/s, Val Loss: 0.801]"
     ]
    },
    {
     "name": "stdout",
     "output_type": "stream",
     "text": [
      "Epoch 700/1000 | Train Loss: 0.7087 | Val Loss: 0.8008\n",
      "[WARNING] Loss did not improving (0.7996 --> 0.8008)\n"
     ]
    },
    {
     "name": "stderr",
     "output_type": "stream",
     "text": [
      "Training...:  80%|████████  | 800/1000 [07:07<01:45,  1.90it/s, Val Loss: 0.800]"
     ]
    },
    {
     "name": "stdout",
     "output_type": "stream",
     "text": [
      "Epoch 800/1000 | Train Loss: 0.6960 | Val Loss: 0.8002\n",
      "[WARNING] Loss did not improving (0.7996 --> 0.8002)\n"
     ]
    },
    {
     "name": "stderr",
     "output_type": "stream",
     "text": [
      "Training...:  90%|█████████ | 900/1000 [07:59<00:52,  1.90it/s, Val Loss: 0.803]"
     ]
    },
    {
     "name": "stdout",
     "output_type": "stream",
     "text": [
      "Epoch 900/1000 | Train Loss: 0.6859 | Val Loss: 0.8033\n",
      "[WARNING] Loss did not improving (0.7996 --> 0.8033)\n"
     ]
    },
    {
     "name": "stderr",
     "output_type": "stream",
     "text": [
      "Training...: 100%|██████████| 1000/1000 [08:51<00:00,  1.88it/s, Val Loss: 0.805]"
     ]
    },
    {
     "name": "stdout",
     "output_type": "stream",
     "text": [
      "Epoch 1000/1000 | Train Loss: 0.6751 | Val Loss: 0.8051\n",
      "[WARNING] Loss did not improving (0.7996 --> 0.8051)\n"
     ]
    },
    {
     "name": "stderr",
     "output_type": "stream",
     "text": [
      "\n"
     ]
    }
   ],
   "source": [
    "# train loop\n",
    "model = model.to(device)\n",
    "\n",
    "# early stop trigger\n",
    "es_trigger = 0\n",
    "val_loss_min = torch.inf\n",
    "\n",
    "epochloop = tqdm(range(epochs), position=0, desc='Training...', leave=True)\n",
    "\n",
    "for e in epochloop:\n",
    "\n",
    "    #################\n",
    "    # training mode #\n",
    "    #################\n",
    "\n",
    "    model.train()\n",
    "\n",
    "    train_loss = 0\n",
    "\n",
    "    for feature in trainloader:\n",
    "        # transform datatype\n",
    "        feature = feature[0]\n",
    "        feature = feature.type(torch.LongTensor)\n",
    "\n",
    "        # move to device\n",
    "        feature = feature.to(device)\n",
    "\n",
    "        # reset optimizer\n",
    "        optim.zero_grad()\n",
    "\n",
    "        # forward pass\n",
    "        out, _ = model(feature)\n",
    "        pred = out[:, :-1]\n",
    "        actual = feature[:, 1:]\n",
    "\n",
    "        # compute loss\n",
    "        # example:\n",
    "        # input = 'maxim'\n",
    "        # out     = ['m', 'a', 'x', 'i']\n",
    "        # feature = ['a', 'x', 'i', 'm']\n",
    "        loss = criterion(pred.contiguous().view(-1, len(char2int)),\n",
    "                         actual.contiguous().view(-1))\n",
    "\n",
    "        # backpropagation\n",
    "        loss.backward()\n",
    "\n",
    "        # clip gradient\n",
    "        nn.utils.clip_grad_norm_(model.parameters(), grad_clip)\n",
    "\n",
    "        # update optimizer\n",
    "        optim.step()\n",
    "\n",
    "        # write loss\n",
    "        train_loss += loss.item()\n",
    "\n",
    "    # write history loss\n",
    "    history['train_loss'].append(train_loss/len(trainloader))\n",
    "\n",
    "    \n",
    "    ####################\n",
    "    # validation model #\n",
    "    ####################\n",
    "\n",
    "    model.eval()\n",
    "\n",
    "    val_loss = 0\n",
    "\n",
    "    with torch.no_grad():\n",
    "        for feature in testloader:\n",
    "            # transform datatype\n",
    "            feature = feature[0].type(torch.LongTensor)            \n",
    "\n",
    "            # move to device\n",
    "            feature = feature.to(device)\n",
    "\n",
    "            # forward pass\n",
    "            out, _ = model(feature)\n",
    "            pred = out[:, :-1]\n",
    "            actual = feature[:, 1:]\n",
    "\n",
    "            # compute loss\n",
    "            loss = criterion(pred.contiguous().view(-1, len(char2int)),\n",
    "                         actual.contiguous().view(-1))\n",
    "\n",
    "            # write loss\n",
    "            val_loss += loss.item()\n",
    "\n",
    "    # write loss history\n",
    "    history['val_loss'].append(val_loss / len(testloader))\n",
    "\n",
    "    # put back model to train mode\n",
    "    model.train()\n",
    "\n",
    "    # add epoch meta info\n",
    "    epochloop.set_postfix_str(f'Val Loss: {val_loss/len(testloader):.3f}')\n",
    "\n",
    "    # print epoch\n",
    "    if (e+1) % print_every == 0 or e == 0:\n",
    "        epochloop.write(f'Epoch {e+1}/{epochs} | Train Loss: {train_loss/len(trainloader):.4f} | Val Loss: {val_loss/len(testloader):.4f}')        \n",
    "        epochloop.update()\n",
    "\n",
    "        # save model if validation loss decrease\n",
    "        if val_loss/len(testloader) <= val_loss_min:\n",
    "            torch.save(model.state_dict(), MODEL_PATH)\n",
    "            val_loss_min = val_loss / len(testloader)\n",
    "            es_trigger = 0\n",
    "        else:\n",
    "            epochloop.write(f'[WARNING] Loss did not improving ({val_loss_min:.4f} --> {val_loss/len(testloader):.4f})')\n",
    "            es_trigger += 1\n",
    "\n",
    "        # force early stop\n",
    "        if es_trigger >= 5:\n",
    "            epochloop.write(f'Early stopped at Epoch-{e}')\n",
    "            # update epochs history\n",
    "            history['epochs'] = e+1\n",
    "            break"
   ]
  },
  {
   "cell_type": "code",
   "execution_count": 150,
   "metadata": {},
   "outputs": [
    {
     "data": {
      "image/png": "[encoded data removed]",
      "text/plain": [
       "<Figure size 432x576 with 1 Axes>"
      ]
     },
     "metadata": {
      "needs_background": "light"
     },
     "output_type": "display_data"
    }
   ],
   "source": [
    "# plot loss\n",
    "plt.figure(figsize=(6, 8))\n",
    "plt.plot(range(history['epochs']), history['train_loss'], label='Train Loss')\n",
    "plt.plot(range(history['epochs']), history['val_loss'], label='Val Loss')\n",
    "plt.legend()\n",
    "plt.show()"
   ]
  },
  {
   "cell_type": "code",
   "execution_count": 151,
   "metadata": {},
   "outputs": [],
   "source": [
    "def generate_sample(model, phrase='A', max_length=6, temperature=1.0, top_k=None):\n",
    "    x_enc = [[char2int[ch] for ch in phrase]]\n",
    "    # x_pad = pad_features(x_enc, max_length)\n",
    "    x_torch = torch.tensor(x_enc, dtype=torch.int64)\n",
    "\n",
    "    # create list for output\n",
    "    char_out = phrase.split()\n",
    "\n",
    "    # move to device\n",
    "    x_torch = x_torch.to(device)\n",
    "\n",
    "    # init empty hidden state\n",
    "    h = None\n",
    "\n",
    "    # running through seed phrase to generate hidden_state\n",
    "    # here we leave the last character cz we will feed it in\n",
    "    # the generating phase as the first sequence\n",
    "    for i in range(len(phrase)-1):\n",
    "        out, h = model(x_torch[:, i:i+1], h)\n",
    "\n",
    "    # start generating\n",
    "    for _ in range(max_length - len(phrase)):\n",
    "        out, h = model(x_torch[:, -1:], h)\n",
    "        p = F.softmax(out / temperature, dim=-1).data        \n",
    "\n",
    "        # pick top K token by top_k (if defined)\n",
    "        if top_k is None:\n",
    "            top_char = np.arange(len(char2int))\n",
    "        else:\n",
    "            p, top_char = p.topk(top_k)\n",
    "            top_char = top_char.numpy().squeeze()        \n",
    "\n",
    "        # select next token and push it to input sequence\n",
    "        p = p.numpy().squeeze()\n",
    "        char_id = np.random.choice(top_char, p=p/p.sum())\n",
    "        char = torch.tensor([[char_id]], dtype=torch.int64)\n",
    "        x_torch = torch.cat([x_torch, char], dim=-1)\n",
    "    \n",
    "        # push to char_out too\n",
    "        char_out.append(int2char[char_id] if char_id > 0 else ' ')\n",
    "\n",
    "    return ''.join(char_out)"
   ]
  },
  {
   "cell_type": "code",
   "execution_count": 164,
   "metadata": {},
   "outputs": [
    {
     "name": "stdout",
     "output_type": "stream",
     "text": [
      "Euryl           \n"
     ]
    }
   ],
   "source": [
    "gen = generate_sample(model, phrase='Eu', max_length=16)\n",
    "print(gen)"
   ]
  },
  {
   "cell_type": "code",
   "execution_count": 170,
   "metadata": {},
   "outputs": [
    {
     "name": "stdout",
     "output_type": "stream",
     "text": [
      "Alis            \n",
      "Alessine        \n",
      "Attoris         \n",
      "Avis            \n",
      "Ali             \n",
      "Alena           \n",
      "Adwin           \n",
      "Alyse           \n",
      "Anstelin        \n",
      "Abe             \n"
     ]
    }
   ],
   "source": [
    "for i in range(10):\n",
    "    gen = generate_sample(model, phrase='A', max_length=16)\n",
    "    print(gen)"
   ]
  }
 ],
 "metadata": {
  "interpreter": {
   "hash": "40d3a090f54c6569ab1632332b64b2c03c39dcf918b08424e98f38b5ae0af88f"
  },
  "kernelspec": {
   "display_name": "Python 3.8.8 ('base')",
   "language": "python",
   "name": "python3"
  },
  "language_info": {
   "codemirror_mode": {
    "name": "ipython",
    "version": 3
   },
   "file_extension": ".py",
   "mimetype": "text/x-python",
   "name": "python",
   "nbconvert_exporter": "python",
   "pygments_lexer": "ipython3",
   "version": "3.8.8"
  },
  "orig_nbformat": 4
 },
 "nbformat": 4,
 "nbformat_minor": 2
}
